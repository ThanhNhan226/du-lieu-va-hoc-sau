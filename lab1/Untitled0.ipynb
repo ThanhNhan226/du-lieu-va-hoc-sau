{
  "nbformat": 4,
  "nbformat_minor": 0,
  "metadata": {
    "colab": {
      "name": "Untitled0.ipynb",
      "provenance": [],
      "authorship_tag": "ABX9TyPF5ki/DJsmfDeSJNbzn/PV",
      "include_colab_link": true
    },
    "kernelspec": {
      "name": "python3",
      "display_name": "Python 3"
    },
    "language_info": {
      "name": "python"
    }
  },
  "cells": [
    {
      "cell_type": "markdown",
      "metadata": {
        "id": "view-in-github",
        "colab_type": "text"
      },
      "source": [
        "<a href=\"https://colab.research.google.com/github/ThanhNhan226/du-lieu-va-hoc-sau/blob/main/lab1/Untitled0.ipynb\" target=\"_parent\"><img src=\"https://colab.research.google.com/assets/colab-badge.svg\" alt=\"Open In Colab\"/></a>"
      ]
    },
    {
      "cell_type": "code",
      "metadata": {
        "id": "PlBMLZZdPs07"
      },
      "source": [
        "import pandas as pd\n",
        "import numpy as np\n",
        "df = pd.read_csv(\"dulieuxettuyendaihoc.csv\", index_col = \"STT\")\n",
        "df.head(10)"
      ],
      "execution_count": null,
      "outputs": []
    },
    {
      "cell_type": "code",
      "metadata": {
        "id": "p6gZtkirWfwS"
      },
      "source": [
        "df.tail(10)"
      ],
      "execution_count": null,
      "outputs": []
    },
    {
      "cell_type": "code",
      "metadata": {
        "id": "KAl1DWgRbsn2"
      },
      "source": [
        "df[\"DT\"].fillna(0, inplace =True) # 4"
      ],
      "execution_count": null,
      "outputs": []
    },
    {
      "cell_type": "code",
      "metadata": {
        "id": "iH5zBFqKbtKs"
      },
      "source": [
        "df"
      ],
      "execution_count": null,
      "outputs": []
    },
    {
      "cell_type": "code",
      "metadata": {
        "id": "0lcO-0PPbtH8"
      },
      "source": [
        "df[\"T1\"].fillna(df[\"T1\"].mean(), inplace =True) # 5"
      ],
      "execution_count": null,
      "outputs": []
    },
    {
      "cell_type": "code",
      "metadata": {
        "id": "mEBDY6EDbtFd"
      },
      "source": [
        "def fill(col):\n",
        "    return df[col].fillna(df[col].mean(), inplace =True)"
      ],
      "execution_count": null,
      "outputs": []
    },
    {
      "cell_type": "code",
      "metadata": {
        "id": "HDKTYdWwbtC2"
      },
      "source": [
        "df.dtypes"
      ],
      "execution_count": null,
      "outputs": []
    },
    {
      "cell_type": "code",
      "metadata": {
        "id": "CzEVuRvkbs__"
      },
      "source": [
        "is_float64 = df.dtypes == float\n",
        "df_column_list = df.columns[is_float64].tolist()"
      ],
      "execution_count": null,
      "outputs": []
    },
    {
      "cell_type": "code",
      "metadata": {
        "id": "YmZqpRtkcQQI"
      },
      "source": [
        "df_column_list"
      ],
      "execution_count": null,
      "outputs": []
    },
    {
      "cell_type": "code",
      "metadata": {
        "id": "Yd5Y1XnScQNP"
      },
      "source": [
        "df.head()"
      ],
      "execution_count": null,
      "outputs": []
    },
    {
      "cell_type": "code",
      "metadata": {
        "id": "Kf-7-SJYcXMH"
      },
      "source": [
        "for col in df_column_list:\n",
        "    df[col].fillna(df[col].mean(), inplace =True)"
      ],
      "execution_count": null,
      "outputs": []
    },
    {
      "cell_type": "code",
      "metadata": {
        "id": "R8hHEP8WcXJk"
      },
      "source": [
        "df.head()"
      ],
      "execution_count": null,
      "outputs": []
    },
    {
      "cell_type": "code",
      "metadata": {
        "id": "xL1ILV6PcXGr"
      },
      "source": [
        "df.isnull().values.any()"
      ],
      "execution_count": null,
      "outputs": []
    },
    {
      "cell_type": "code",
      "metadata": {
        "id": "hoD8q35TcZm1"
      },
      "source": [
        "for i in [\"1\",\"2\",\"6\"]:\n",
        "    print(\"TBM\"+i)"
      ],
      "execution_count": null,
      "outputs": []
    },
    {
      "cell_type": "code",
      "metadata": {
        "id": "s9Y6_D6McZkU"
      },
      "source": [
        "#(T*2 + L + H + S + V*2 + X + D + N) / 10\n",
        "for i in [\"1\",\"2\",\"6\"]:\n",
        "    df[\"TBM\"+i] = (df[\"T\"+i]*2 + df[\"L\"+i]+ df[\"H\"+i]+ df[\"S\"+i]+ + df[\"V\"+i]*2 + df[\"X\"+i]+ df[\"D\"+i]+ df[\"N\"+i])/10"
      ],
      "execution_count": null,
      "outputs": []
    },
    {
      "cell_type": "code",
      "metadata": {
        "id": "7FsDzRgZcZhn"
      },
      "source": [
        "df.rename(columns ={\"TBM6\":\"TBM3\"}, inplace =True)"
      ],
      "execution_count": null,
      "outputs": []
    },
    {
      "cell_type": "code",
      "metadata": {
        "id": "yRuVLwyYcf6Q"
      },
      "source": [
        "df.head()"
      ],
      "execution_count": null,
      "outputs": []
    },
    {
      "cell_type": "code",
      "metadata": {
        "id": "A1rp1M21cf3V"
      },
      "source": [
        "def xeploai(col):\n",
        "    if()"
      ],
      "execution_count": null,
      "outputs": []
    },
    {
      "cell_type": "code",
      "metadata": {
        "id": "gziBn8Urcf0l"
      },
      "source": [
        "for i in [\"1\",\"2\",\"3\"]:\n",
        "    df.loc[df['TBM'+i] <= 5, 'XL'+i] = 'Y' \n",
        "    df.loc[(df['TBM'+i] <= 6.5) &(df['TBM'+i] > 5), 'XL'+i] = 'TB' \n",
        "    df.loc[(df['TBM'+i] < 8) &(df['TBM'+i] >= 6.5), 'XL'+i] = 'K' \n",
        "    df.loc[(df['TBM'+i] < 9) &(df['TBM'+i] >=8), 'XL'+i] = 'G' \n",
        "    df.loc[(df['TBM'+i] >= 9), 'XL'+i] = 'XS'"
      ],
      "execution_count": null,
      "outputs": []
    },
    {
      "cell_type": "code",
      "metadata": {
        "id": "-qeYva8cckn0"
      },
      "source": [
        "df.head()"
      ],
      "execution_count": null,
      "outputs": []
    },
    {
      "cell_type": "code",
      "metadata": {
        "id": "37K2Jig0cklZ"
      },
      "source": [
        "for i in [\"1\",\"2\",\"3\"]:\n",
        "    df[\"US_TBM\"+i] = df[\"TBM\"+i]/10 *4"
      ],
      "execution_count": null,
      "outputs": []
    },
    {
      "cell_type": "code",
      "metadata": {
        "id": "bfP3ZWLUckii"
      },
      "source": [
        "df.head()"
      ],
      "execution_count": null,
      "outputs": []
    },
    {
      "cell_type": "code",
      "metadata": {
        "id": "DnomPbFGckfX"
      },
      "source": [
        "for i in df[\"KT\"].unique():\n",
        "    str(i)\n",
        "    df.loc[(i == \"A1\" or i == \"A\") & (((df[\"DH1\"]*2 + df[\"DH2\"] + df[\"DH3\"])/4) >= 5), \"KQXT\"] = 1\n",
        "    df.loc[(i == \"A1\" or i == \"A\") & (((df[\"DH1\"]*2 + df[\"DH2\"] + df[\"DH3\"])/4) < 5), \"KQXT\"] = 0\n",
        "    \n",
        "    df.loc[(i == \"B\") & (((df[\"DH1\"] + df[\"DH2\"]*2 + df[\"DH3\"])/4) >= 5), \"KQXT\"] = 1\n",
        "    df.loc[(i == \"B\") & (((df[\"DH1\"] + df[\"DH2\"]*2 + df[\"DH3\"])/4) < 5), \"KQXT\"] = 0\n",
        "    \n",
        "    df.loc[(i != \"A1\" or i != \"A\" or i == \"B\") & (((df[\"DH1\"] + df[\"DH2\"] + df[\"DH3\"])/3) >= 5), \"KQXT\"] = 1\n",
        "    df.loc[(i != \"A1\" or i != \"A\" or i == \"B\") & (((df[\"DH1\"] + df[\"DH2\"] + df[\"DH3\"])/3) < 5), \"KQXT\"] = 0"
      ],
      "execution_count": null,
      "outputs": []
    },
    {
      "cell_type": "code",
      "metadata": {
        "id": "6lUKm1gucqbn"
      },
      "source": [
        "df.head(100)"
      ],
      "execution_count": null,
      "outputs": []
    },
    {
      "cell_type": "code",
      "metadata": {
        "id": "OhbswbIjcqYx"
      },
      "source": [
        "df.to_csv('processed_dulieuxettuyendaihoc.csv')"
      ],
      "execution_count": 16,
      "outputs": []
    }
  ]
}